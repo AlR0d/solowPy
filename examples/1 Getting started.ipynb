{
 "metadata": {
  "name": "",
  "signature": "sha256:151adf64148df311caac0e8e56a62cf1e94350e842e3cfdedb7b3e69f40ffbc0"
 },
 "nbformat": 3,
 "nbformat_minor": 0,
 "worksheets": [
  {
   "cells": [
    {
     "cell_type": "markdown",
     "metadata": {},
     "source": [
      "<div align='center' ><img src='https://raw.githubusercontent.com/davidrpugh/numerical-methods/master/images/sgpe-logo.jpg' width=\"1200\" height=\"100\"></div>\n",
      "<div align='right'><img src='https://raw.githubusercontent.com/davidrpugh/numerical-methods/master/images/SIRElogolweb.jpg' width=\"1200\" height=\"100\"></div>"
     ]
    },
    {
     "cell_type": "code",
     "collapsed": false,
     "input": [
      "import numpy as np\n",
      "import sympy as sym\n",
      "from quantecon.models import solow"
     ],
     "language": "python",
     "metadata": {},
     "outputs": [],
     "prompt_number": 1
    },
    {
     "cell_type": "markdown",
     "metadata": {},
     "source": [
      "# 1 Creating an instance of the `solow.Model` class\n",
      "\n",
      "In this notebook I will walk you through the creation of an instance of the `solow.Model` class. To create an instance of the `solow.Model` we must define two primitives: an aggregate production function and a dictionary of model parameter values.\n",
      "\n",
      "## 1.1 Defining the production function $F$:\n",
      "\n",
      "At each point in time the economy in a Solow growth model has some amounts of capital, $K$, labor, $L$, and knowledge (or technology), $A$, that can be combined to produce output, $Y$, according to some function, $F$:\n",
      "\n",
      "$$ Y(t) = F(K(t), A(t)L(t)) \\tag{1.1.1} $$\n",
      "\n",
      "where $t$ denotes time. Note that $A$ and $L$ are assumed to enter multiplicatively. Typically $A(t)L(t)$ denotes \"effective labor\", and technology that enters in this fashion is known as labor-augmenting or \"Harrod neutral.\"\n",
      "\n",
      "A key assumption of the model is that the function $F$ exhibits constant returns to scale in capital and labor inputs. Specifically,\n",
      "\n",
      "$$ F(cK(t), cA(t)L(t)) = cF(K(t), A(t)L(t)) = cY(t) \\tag {1.1.2} $$\n",
      "\n",
      "for any $c \\ge 0$. For reference, the above information is contained in the docstring of the `solow.Model.output` attribute."
     ]
    },
    {
     "cell_type": "code",
     "collapsed": false,
     "input": [
      "solow.Model.output?"
     ],
     "language": "python",
     "metadata": {},
     "outputs": [],
     "prompt_number": 2
    },
    {
     "cell_type": "markdown",
     "metadata": {},
     "source": [
      "### Examples:\n",
      "A common functional form for aggregate production in a Solow model that satisies the above assumptions is the [Cobb-Douglas](http://en.wikipedia.org/wiki/Cobb%E2%80%93Douglas_production_function) production function\n",
      "\n",
      "\\begin{equation}\n",
      "  \\lim_{\\rho \\rightarrow 0} Y(t) = K(t)^{\\alpha}(A(t)L(t))^{1-\\alpha}. \\tag{1.1.3}\n",
      "\\end{equation}\n",
      "\n",
      "The Cobb-Douglas production function is actually a special case of a more general class of production functions called [constant elasticity of substitution (CES)](http://en.wikipedia.org/wiki/Constant_elasticity_of_substitution) production functions.\n",
      "\n",
      "\\begin{equation}\n",
      "  Y(t) = \\bigg[\\alpha K(t)^{\\rho} + (1-\\alpha) (A(t)L(t))^{\\rho}\\bigg]^{\\frac{1}{\\rho}} \\tag{1.1.4}\n",
      "\\end{equation}\n",
      "\n",
      "where $0 < \\alpha < 1$ and $-\\infty < \\rho < 1$. The parameter $\\rho = \\frac{\\sigma - 1}{\\sigma}$ where $\\sigma$ is the elasticity of substitution between factors of production. Taking the limit of equation 1.2 as the elasticity of subsitution goes to unity (i.e., $\\sigma=1 \\implies \\rho=0$) recovers the Cobb-Douglas functional form."
     ]
    },
    {
     "cell_type": "code",
     "collapsed": false,
     "input": [
      "# define model variables\n",
      "A, K, L = sym.symbols('A, K, L')\n",
      "\n",
      "# define production parameters\n",
      "alpha, sigma = sym.symbols('alpha, sigma')\n",
      "\n",
      "# define a production function\n",
      "cobb_douglas_output = K**alpha * (A * L)**(1 - alpha)\n",
      "\n",
      "rho = (sigma - 1) / sigma\n",
      "ces_output = (alpha * K**rho + (1 - alpha) * (A * L)**rho)**(1 / rho)"
     ],
     "language": "python",
     "metadata": {},
     "outputs": [],
     "prompt_number": 3
    },
    {
     "cell_type": "markdown",
     "metadata": {},
     "source": [
      "## 1.2 Defining model parameters\n",
      "\n",
      "A generic Solow growth model has several parameters that need to be specified. To see which parameters are required, we can check the docstring of the `solow.Model.params` attribute."
     ]
    },
    {
     "cell_type": "code",
     "collapsed": false,
     "input": [
      "solow.Model.params?"
     ],
     "language": "python",
     "metadata": {},
     "outputs": [],
     "prompt_number": 4
    },
    {
     "cell_type": "markdown",
     "metadata": {},
     "source": [
      "In addition to the standard parameters $g, n, s, \\delta$, one will also need to specify any required parameters for the production function. In order to make sure that parameter values are consistent with the models assumptions some basic validation of the `solow.Model.params` attribute is done when ever the attribute is set. "
     ]
    },
    {
     "cell_type": "code",
     "collapsed": false,
     "input": [
      "# these parameters look fishy...why?\n",
      "default_params = {'A0': 1.0, 'L0': 1.0, 'g': 0.0, 'n': -0.03, 's': 0.15,\n",
      "                  'delta': 0.01, 'alpha': 0.33}"
     ],
     "language": "python",
     "metadata": {},
     "outputs": [],
     "prompt_number": 5
    },
    {
     "cell_type": "code",
     "collapsed": false,
     "input": [
      "# ...raises an AttributeError\n",
      "model = solow.Model(output=cobb_douglas_output, params=default_params)"
     ],
     "language": "python",
     "metadata": {},
     "outputs": [
      {
       "ename": "AttributeError",
       "evalue": "Sum of g, n, and delta must be positive.",
       "output_type": "pyerr",
       "traceback": [
        "\u001b[0;31m---------------------------------------------------------------------------\u001b[0m\n\u001b[0;31mAttributeError\u001b[0m                            Traceback (most recent call last)",
        "\u001b[0;32m<ipython-input-6-0e65ea0850e0>\u001b[0m in \u001b[0;36m<module>\u001b[0;34m()\u001b[0m\n\u001b[1;32m      1\u001b[0m \u001b[0;31m# ...raises an AttributeError\u001b[0m\u001b[0;34m\u001b[0m\u001b[0;34m\u001b[0m\u001b[0m\n\u001b[0;32m----> 2\u001b[0;31m \u001b[0mmodel\u001b[0m \u001b[0;34m=\u001b[0m \u001b[0msolow\u001b[0m\u001b[0;34m.\u001b[0m\u001b[0mModel\u001b[0m\u001b[0;34m(\u001b[0m\u001b[0moutput\u001b[0m\u001b[0;34m=\u001b[0m\u001b[0mcobb_douglas_output\u001b[0m\u001b[0;34m,\u001b[0m \u001b[0mparams\u001b[0m\u001b[0;34m=\u001b[0m\u001b[0mdefault_params\u001b[0m\u001b[0;34m)\u001b[0m\u001b[0;34m\u001b[0m\u001b[0m\n\u001b[0m",
        "\u001b[0;32m/Users/drpugh/Research/python-dev/quant-econ/quantecon/models/solow/model.pyc\u001b[0m in \u001b[0;36m__init__\u001b[0;34m(self, output, params)\u001b[0m\n\u001b[1;32m    130\u001b[0m         \u001b[0mself\u001b[0m\u001b[0;34m.\u001b[0m\u001b[0mirf\u001b[0m \u001b[0;34m=\u001b[0m \u001b[0mimpulse_response\u001b[0m\u001b[0;34m.\u001b[0m\u001b[0mImpulseResponse\u001b[0m\u001b[0;34m(\u001b[0m\u001b[0mself\u001b[0m\u001b[0;34m)\u001b[0m\u001b[0;34m\u001b[0m\u001b[0m\n\u001b[1;32m    131\u001b[0m         \u001b[0mself\u001b[0m\u001b[0;34m.\u001b[0m\u001b[0moutput\u001b[0m \u001b[0;34m=\u001b[0m \u001b[0moutput\u001b[0m\u001b[0;34m\u001b[0m\u001b[0m\n\u001b[0;32m--> 132\u001b[0;31m         \u001b[0mself\u001b[0m\u001b[0;34m.\u001b[0m\u001b[0mparams\u001b[0m \u001b[0;34m=\u001b[0m \u001b[0mparams\u001b[0m\u001b[0;34m\u001b[0m\u001b[0m\n\u001b[0m\u001b[1;32m    133\u001b[0m \u001b[0;34m\u001b[0m\u001b[0m\n\u001b[1;32m    134\u001b[0m     \u001b[0;34m@\u001b[0m\u001b[0mproperty\u001b[0m\u001b[0;34m\u001b[0m\u001b[0m\n",
        "\u001b[0;32m/Users/drpugh/Research/python-dev/quant-econ/quantecon/models/solow/model.pyc\u001b[0m in \u001b[0;36mparams\u001b[0;34m(self, value)\u001b[0m\n\u001b[1;32m    517\u001b[0m     \u001b[0;32mdef\u001b[0m \u001b[0mparams\u001b[0m\u001b[0;34m(\u001b[0m\u001b[0mself\u001b[0m\u001b[0;34m,\u001b[0m \u001b[0mvalue\u001b[0m\u001b[0;34m)\u001b[0m\u001b[0;34m:\u001b[0m\u001b[0;34m\u001b[0m\u001b[0m\n\u001b[1;32m    518\u001b[0m         \u001b[0;34m\"\"\"Set a new parameter dictionary.\"\"\"\u001b[0m\u001b[0;34m\u001b[0m\u001b[0m\n\u001b[0;32m--> 519\u001b[0;31m         \u001b[0mself\u001b[0m\u001b[0;34m.\u001b[0m\u001b[0m_params\u001b[0m \u001b[0;34m=\u001b[0m \u001b[0mself\u001b[0m\u001b[0;34m.\u001b[0m\u001b[0m_validate_params\u001b[0m\u001b[0;34m(\u001b[0m\u001b[0mvalue\u001b[0m\u001b[0;34m)\u001b[0m\u001b[0;34m\u001b[0m\u001b[0m\n\u001b[0m\u001b[1;32m    520\u001b[0m \u001b[0;34m\u001b[0m\u001b[0m\n\u001b[1;32m    521\u001b[0m     \u001b[0;32mdef\u001b[0m \u001b[0m_clear_cache\u001b[0m\u001b[0;34m(\u001b[0m\u001b[0mself\u001b[0m\u001b[0;34m)\u001b[0m\u001b[0;34m:\u001b[0m\u001b[0;34m\u001b[0m\u001b[0m\n",
        "\u001b[0;32m/Users/drpugh/Research/python-dev/quant-econ/quantecon/models/solow/model.pyc\u001b[0m in \u001b[0;36m_validate_params\u001b[0;34m(self, params)\u001b[0m\n\u001b[1;32m    552\u001b[0m             \u001b[0;32mraise\u001b[0m \u001b[0mAttributeError\u001b[0m\u001b[0;34m(\u001b[0m\u001b[0;34m'Depreciation rate must be in (0, 1).'\u001b[0m\u001b[0;34m)\u001b[0m\u001b[0;34m\u001b[0m\u001b[0m\n\u001b[1;32m    553\u001b[0m         \u001b[0;32melif\u001b[0m \u001b[0mparams\u001b[0m\u001b[0;34m[\u001b[0m\u001b[0;34m'g'\u001b[0m\u001b[0;34m]\u001b[0m \u001b[0;34m+\u001b[0m \u001b[0mparams\u001b[0m\u001b[0;34m[\u001b[0m\u001b[0;34m'n'\u001b[0m\u001b[0;34m]\u001b[0m \u001b[0;34m+\u001b[0m \u001b[0mparams\u001b[0m\u001b[0;34m[\u001b[0m\u001b[0;34m'delta'\u001b[0m\u001b[0;34m]\u001b[0m \u001b[0;34m<=\u001b[0m \u001b[0;36m0.0\u001b[0m\u001b[0;34m:\u001b[0m\u001b[0;34m\u001b[0m\u001b[0m\n\u001b[0;32m--> 554\u001b[0;31m             \u001b[0;32mraise\u001b[0m \u001b[0mAttributeError\u001b[0m\u001b[0;34m(\u001b[0m\u001b[0;34m\"Sum of g, n, and delta must be positive.\"\u001b[0m\u001b[0;34m)\u001b[0m\u001b[0;34m\u001b[0m\u001b[0m\n\u001b[0m\u001b[1;32m    555\u001b[0m         \u001b[0;32melif\u001b[0m \u001b[0mparams\u001b[0m\u001b[0;34m[\u001b[0m\u001b[0;34m'A0'\u001b[0m\u001b[0;34m]\u001b[0m \u001b[0;34m<=\u001b[0m \u001b[0;36m0.0\u001b[0m\u001b[0;34m:\u001b[0m\u001b[0;34m\u001b[0m\u001b[0m\n\u001b[1;32m    556\u001b[0m             \u001b[0mmesg\u001b[0m \u001b[0;34m=\u001b[0m \u001b[0;34m\"Initial value for technology must be strictly positive.\"\u001b[0m\u001b[0;34m\u001b[0m\u001b[0m\n",
        "\u001b[0;31mAttributeError\u001b[0m: Sum of g, n, and delta must be positive."
       ]
      }
     ],
     "prompt_number": 6
    },
    {
     "cell_type": "markdown",
     "metadata": {},
     "source": [
      "### Examples:\n",
      "Here are some examples of how one successfully creates an instance of the `solow.Model` class..."
     ]
    },
    {
     "cell_type": "code",
     "collapsed": false,
     "input": [
      "cobb_douglas_params = {'A0': 1.0, 'L0': 1.0, 'g': 0.02, 'n': 0.03, 's': 0.15,\n",
      "                       'delta': 0.05, 'alpha': 0.33}\n",
      "\n",
      "cobb_douglas_model = solow.Model(output=cobb_douglas_output,\n",
      "                                 params=cobb_douglas_params)"
     ],
     "language": "python",
     "metadata": {},
     "outputs": [],
     "prompt_number": 7
    },
    {
     "cell_type": "code",
     "collapsed": false,
     "input": [
      "ces_params = {'A0': 1.0, 'L0': 1.0, 'g': 0.02, 'n': 0.03, 's': 0.15,\n",
      "              'delta': 0.05, 'alpha': 0.33, 'sigma': 0.95}\n",
      "\n",
      "ces_model = solow.Model(output=ces_output, params=ces_params)"
     ],
     "language": "python",
     "metadata": {},
     "outputs": [],
     "prompt_number": 8
    },
    {
     "cell_type": "markdown",
     "metadata": {},
     "source": [
      "## 1.3 Other attributes of the `solow.Model` class\n",
      "\n",
      "### The intensive form of the production function\n",
      "\n",
      "The assumption of constant returns to scale allows us to work with the intensive form of the aggregate production function, $F$. Defining $c=1/AL$ one can write\n",
      "\n",
      "$$ F\\bigg(\\frac{K}{AL}, 1\\bigg) = \\frac{1}{AL}F(A, K, L) \\tag{1.3.1} $$\n",
      "\n",
      "Defining $k=K/AL$ and $y=Y/AL$ to be capital per unit effective labor and output per unit effective labor, respectively, the intensive form of the production function can be written as\n",
      "\n",
      "$$ y = f(k). \\tag{1.3.2}$$\n",
      "\n",
      "Additional assumptions are that $f$ satisfies $f(0)=0$, is concave (i.e., $f'(k) > 0, f''(k) < 0$), and satisfies the Inada conditions: $\\lim_{k \\rightarrow 0} = \\infty$ and $\\lim_{k \\rightarrow \\infty} = 0$. The <cite data-cite=\"inada1964\">(Inada, 1964)</cite> conditions are sufficient (but not necessary!) to ensure that the time path of capital per effective worker does not explode. Much of the above information is actually taken straight from the docstring for the `solow.Model.intensive_output` attribute."
     ]
    },
    {
     "cell_type": "code",
     "collapsed": false,
     "input": [
      "solow.Model.intensive_output?"
     ],
     "language": "python",
     "metadata": {},
     "outputs": [],
     "prompt_number": 9
    },
    {
     "cell_type": "code",
     "collapsed": false,
     "input": [
      "ces_model.intensive_output"
     ],
     "language": "python",
     "metadata": {},
     "outputs": [
      {
       "metadata": {},
       "output_type": "pyout",
       "prompt_number": 10,
       "text": [
        "(1.0**((sigma - 1)/sigma)*(-alpha + 1) + alpha*k**((sigma - 1)/sigma))**(sigma/(sigma - 1))"
       ]
      }
     ],
     "prompt_number": 10
    },
    {
     "cell_type": "markdown",
     "metadata": {},
     "source": [
      "One can numerically evaluate the intensive output for various values of capital stock (per unit effective labor) as follows..."
     ]
    },
    {
     "cell_type": "code",
     "collapsed": false,
     "input": [
      "ces_model.evaluate_intensive_output(np.linspace(1.0, 10.0, 25))"
     ],
     "language": "python",
     "metadata": {},
     "outputs": [
      {
       "metadata": {},
       "output_type": "pyout",
       "prompt_number": 11,
       "text": [
        "array([ 1.        ,  1.11015628,  1.20064292,  1.27820127,  1.34651243,\n",
        "        1.40783043,  1.46364616,  1.51500233,  1.56265965,  1.60719189,\n",
        "        1.64904359,  1.68856684,  1.72604577,  1.76171326,  1.79576289,\n",
        "        1.82835742,  1.85963514,  1.88971468,  1.91869861,  1.94667628,\n",
        "        1.97372605,  1.99991707,  2.02531067,  2.04996155,  2.07391871])"
       ]
      }
     ],
     "prompt_number": 11
    },
    {
     "cell_type": "markdown",
     "metadata": {},
     "source": [
      "### The marginal product of capital\n",
      "\n",
      "The marginal product of capital is defined as follows:\n",
      "\n",
      "$$ \\frac{\\partial F(K, AL)}{\\partial K} \\equiv f'(k) \\tag{1.3.3}$$\n",
      "\n",
      "where $k=K/AL$ is capital stock (per unit effective labor)."
     ]
    },
    {
     "cell_type": "code",
     "collapsed": false,
     "input": [
      "solow.Model.marginal_product_capital?"
     ],
     "language": "python",
     "metadata": {},
     "outputs": [],
     "prompt_number": 12
    },
    {
     "cell_type": "code",
     "collapsed": false,
     "input": [
      "ces_model.marginal_product_capital"
     ],
     "language": "python",
     "metadata": {},
     "outputs": [
      {
       "metadata": {},
       "output_type": "pyout",
       "prompt_number": 13,
       "text": [
        "alpha*k**((sigma - 1)/sigma)*(1.0**((sigma - 1)/sigma)*(-alpha + 1) + alpha*k**((sigma - 1)/sigma))**(sigma/(sigma - 1))/(k*(1.0**((sigma - 1)/sigma)*(-alpha + 1) + alpha*k**((sigma - 1)/sigma)))"
       ]
      }
     ],
     "prompt_number": 13
    },
    {
     "cell_type": "markdown",
     "metadata": {},
     "source": [
      "One can numerically evaluate the marginal product of capital for various values of capital stock (per unit effective labor) as follows..."
     ]
    },
    {
     "cell_type": "code",
     "collapsed": false,
     "input": [
      "ces_model.evaluate_mpk(np.linspace(1.0, 10.0, 25))"
     ],
     "language": "python",
     "metadata": {},
     "outputs": [
      {
       "metadata": {},
       "output_type": "pyout",
       "prompt_number": 14,
       "text": [
        "array([ 0.33      ,  0.26345407,  0.22196166,  0.19325704,  0.17204444,\n",
        "        0.15563456,  0.14250582,  0.13172779,  0.12269712,  0.11500417,\n",
        "        0.10836032,  0.1025559 ,  0.09743467,  0.09287764,  0.08879245,\n",
        "        0.08510627,  0.08176081,  0.07870886,  0.0759117 ,  0.07333729,\n",
        "        0.07095884,  0.0687538 ,  0.06670301,  0.0647901 ,  0.06300099])"
       ]
      }
     ],
     "prompt_number": 14
    },
    {
     "cell_type": "markdown",
     "metadata": {},
     "source": [
      "### Equation of motion for capital (per unit effective labor)\n",
      "Because the economy is growing over time due to technological progress, $g$, and population growth, $n$, it makes sense to focus on the capital stock per unit effective labor, $k$, rather than aggregate physical capital, $K$. Since, by definition, $k=K/AL$, we can apply the chain rule to the time derative of $k$.\n",
      "\n",
      "\\begin{align}\n",
      "\\dot{k}(t) =& \\frac{\\dot{K}(t)}{A(t)L(t)} - \\frac{K(t)}{[A(t)L(t)]^2}\\bigg[\\dot{A}(t)L(t) + \\dot{L}(t)A(t)\\bigg] \\\\\n",
      "=& \\frac{\\dot{K}(t)}{A(t)L(t)} - \\bigg(\\frac{\\dot{A}(t)}{A(t)} + \\frac{\\dot{L}(t)}{L(t)}\\bigg)\\frac{K(t)}{A(t)L(t)} \\tag{1.3.4}\n",
      "\\end{align}\n",
      "\n",
      "By definition, $k=K/AL$, and by assumption $\\dot{A}/A$ and $\\dot{L}/L$ are $g$ and $n$ respectively. Aggregate capital stock evolves according to\n",
      "\n",
      "$$ \\dot{K}(t) = sF(K(t), A(t)L(t)) - \\delta K(t). \\tag{1.3.5}$$\n",
      "\n",
      "Substituting these facts into the above equation yields the equation of\n",
      "motion for capital stock (per unit effective labor).\n",
      "\n",
      "\\begin{align}\n",
      "\\dot{k}(t) =& \\frac{sF(K(t), A(t)L(t)) - \\delta K(t)}{A(t)L(t)} - (g + n)k(t) \\\\\n",
      "=& \\frac{sY(t)}{A(t)L(t)} - (g + n + \\delta)k(t) \\\\\n",
      "=& sf(k(t)) - (g + n + \\delta)k(t) \\tag{1.3.6}\n",
      "\\end{align}\n",
      "\n",
      "The above information is available for reference in the docstring for the `solow.Model.k_dot` attribute."
     ]
    },
    {
     "cell_type": "code",
     "collapsed": false,
     "input": [
      "solow.Model.k_dot?"
     ],
     "language": "python",
     "metadata": {},
     "outputs": [],
     "prompt_number": 15
    },
    {
     "cell_type": "code",
     "collapsed": false,
     "input": [
      "ces_model.k_dot"
     ],
     "language": "python",
     "metadata": {},
     "outputs": [
      {
       "metadata": {},
       "output_type": "pyout",
       "prompt_number": 16,
       "text": [
        "-k*(delta + g + n) + s*(1.0**((sigma - 1)/sigma)*(-alpha + 1) + alpha*k**((sigma - 1)/sigma))**(sigma/(sigma - 1))"
       ]
      }
     ],
     "prompt_number": 16
    },
    {
     "cell_type": "markdown",
     "metadata": {},
     "source": [
      "One can numerically evaluate the equation of motion for capital (per unit effective labor) for various values of capital stock (per unit effective labor) as follows..."
     ]
    },
    {
     "cell_type": "code",
     "collapsed": false,
     "input": [
      "ces_model.evaluate_k_dot(np.linspace(1.0, 10.0, 25))"
     ],
     "language": "python",
     "metadata": {},
     "outputs": [
      {
       "metadata": {},
       "output_type": "pyout",
       "prompt_number": 17,
       "text": [
        "array([ 0.05      ,  0.02902344,  0.00509644, -0.02076981, -0.04802314,\n",
        "       -0.07632544, -0.10545308, -0.13524965, -0.16560105, -0.19642122,\n",
        "       -0.22764346, -0.25921497, -0.29109314, -0.32324301, -0.35563557,\n",
        "       -0.38824639, -0.42105473, -0.4540428 , -0.48719521, -0.52049856,\n",
        "       -0.55394109, -0.58751244, -0.6212034 , -0.65500577, -0.68891219])"
       ]
      }
     ],
     "prompt_number": 17
    },
    {
     "cell_type": "markdown",
     "metadata": {},
     "source": [
      "## 1.4 Sub-classing the `solow.Model` class\n",
      "\n",
      "Several commonly used functional forms for aggregate production, including both the Cobb-Douglas and Constant Elasticity of Substitution (CES) production functions, have been sub-classed from `solow.Model`. For these functional forms, one only needs to specify a valid dictionary of model parameters."
     ]
    },
    {
     "cell_type": "code",
     "collapsed": false,
     "input": [
      "solow.cobb_douglas?"
     ],
     "language": "python",
     "metadata": {},
     "outputs": [],
     "prompt_number": 18
    },
    {
     "cell_type": "code",
     "collapsed": false,
     "input": [
      "cobb_douglas_model = solow.CobbDouglasModel(params=cobb_douglas_params)"
     ],
     "language": "python",
     "metadata": {},
     "outputs": [],
     "prompt_number": 19
    },
    {
     "cell_type": "code",
     "collapsed": false,
     "input": [
      "solow.ces?"
     ],
     "language": "python",
     "metadata": {},
     "outputs": [],
     "prompt_number": 20
    },
    {
     "cell_type": "code",
     "collapsed": false,
     "input": [
      "ces_model = solow.CESModel(params=ces_params)"
     ],
     "language": "python",
     "metadata": {},
     "outputs": [],
     "prompt_number": 21
    },
    {
     "cell_type": "markdown",
     "metadata": {},
     "source": [
      "Now that you understand the basics, we can move on to [finding the steady state](./Finding the steady state.ipynb) of the Solow growth model."
     ]
    },
    {
     "cell_type": "code",
     "collapsed": false,
     "input": [],
     "language": "python",
     "metadata": {},
     "outputs": []
    }
   ],
   "metadata": {}
  }
 ]
}