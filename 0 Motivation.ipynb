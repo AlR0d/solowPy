{
 "metadata": {
  "name": "",
  "signature": "sha256:7b90b97848ebb4c8627a6bf3e5f90a9bc3ecce2b6bd23bdfb1b4c3fd298f2bfc"
 },
 "nbformat": 3,
 "nbformat_minor": 0,
 "worksheets": [
  {
   "cells": [
    {
     "cell_type": "markdown",
     "metadata": {
      "internals": {
       "slide_type": "subslide"
      },
      "slideshow": {
       "slide_type": "slide"
      }
     },
     "source": [
      "<div align='center' ><img src='https://raw.githubusercontent.com/davidrpugh/numerical-methods/master/images/sgpe-logo.jpg' width=\"1200\" height=\"100\"></div>\n",
      "<div align='right'><img src='https://raw.githubusercontent.com/davidrpugh/numerical-methods/master/images/SIRElogolweb.jpg' width=\"1200\" height=\"100\"></div>\n",
      "\n",
      "This notebook demonstrates the functionality of the `quantecon.models.solow` module. The code was developed with funding from the Scottish Graduate Programme in Economics (SGPE) and the Scottish Institute for Research in Economics (SIRE). The code has found widespread use in  my own research and teaching and it is my fervent hope that others will adapt and contribute to the development of these notebooks for use in their own research and teaching.\n",
      "\n"
     ]
    },
    {
     "cell_type": "code",
     "collapsed": false,
     "input": [
      "%matplotlib inline"
     ],
     "language": "python",
     "metadata": {
      "internals": {},
      "slideshow": {
       "slide_type": "-"
      }
     },
     "outputs": []
    },
    {
     "cell_type": "code",
     "collapsed": false,
     "input": [
      "import matplotlib.pyplot as plt\n",
      "import seaborn as sns\n",
      "import numpy as np\n",
      "import sympy as sym\n",
      "\n",
      "import quantecon as qe\n",
      "import solow"
     ],
     "language": "python",
     "metadata": {
      "internals": {},
      "slideshow": {
       "slide_type": "-"
      }
     },
     "outputs": []
    },
    {
     "cell_type": "markdown",
     "metadata": {
      "internals": {},
      "slideshow": {
       "slide_type": "-"
      }
     },
     "source": [
      "# 0. Motivation\n",
      "\n",
      "The typical economics graduate student places great faith in the analytical mathematical tools that he or she was taught as an undergraduate. In particular this student is likely under the impression that virtually all economic models have closed-form solutions. At best the typical student believes that if he or she were to encounter an economic model without a closed-form solution, then simplifying assumptions could be made that would render the model analytically tractable without sacrificing important economic content. \n",
      "\n",
      "The typical economics student is, of course, wrong about general existence of closed-form solutions to economic models. In fact the opposite is true: most economic models, particular dynamic, non-linear models with meaningful constraints (i.e., most any *interesting* model) will fail to have an analytic solution. I the objective of this notebook is to demonstrate this fact and thereby motivate the use of numerical methods in economics more generally using the [Solow model of economic growth](http://faculty.smu.edu/tosang/pdf/Solow_1956.pdf). \n",
      "\n",
      "Economics graduate students are very familiar with the Solow growth model. For many students, the Solow model will have been one of the first macroeconomic models taught to them as undergraduates. Indeed, Greg Mankiw's [*Macroeconomics*](http://www.macmillanhighered.com/Catalog/product/macroeconomics-eighthedition-mankiw), the dominant macroeconomics textbook for first and second year undergraduates, devotes two full chapters to motivating and deriving the Solow model. The first few chapters of David Romer's [*Advanced Macroeconomics*](http://highered.mheducation.com/sites/0073511374/index.html), one of the most widely used final year undergraduate and first-year graduate macroeconomics textbook, are also devoted to the Solow growth model and its descendants.\n"
     ]
    },
    {
     "cell_type": "markdown",
     "metadata": {
      "internals": {},
      "slideshow": {
       "slide_type": "-"
      }
     },
     "source": [
      "## 0.1 The basic Solow growth model\n",
      "The Solow model can be reduced down to a single non-linear differential equation and associated initial condition describing the time evolution of capital stock (per unit effective labor), $k(t)$.\n",
      "\n",
      "$$ \\dot{k}(t) = sf(k(t)) - (n + g + \\delta)k(t),\\ k(t) = k_0 \\tag {0.1.1} $$\n",
      "\n",
      "The parameter $0 < s < 1$ is the fraction of output invested and the parameters $n, g, \\delta$ are the rates of population growth, technological progress, and depreciation of physical capital. The intensive form of the production function $f$ is assumed to be to be strictly concave with \n",
      "\n",
      "$$ f(0) = 0,\\ lim_{k\\rightarrow 0}\\ f' = \\infty,\\ lim_{k\\rightarrow \\infty}\\ f' = 0. \\tag{0.1.2} $$ \n",
      "\n",
      "A common choice for the function $f$ which satisfies the above conditions is known as the Cobb-Douglas production function.\n",
      "\n",
      "$$ f(k(t)) = k(t)^{\\alpha} $$\n",
      "\n",
      "Assuming a Cobb-Douglas functional form for $f$ also makes the model analytically tractable (and thus contributes to the typical economics student's belief that all such models \"must\" have an analytic solution). [Sato 1963](http://www.jstor.org/stable/2296026) showed that the solution to the model under the assumption of Cobb-Douglas production is\n",
      "\n",
      "$$ k(t) = \\Bigg[\\bigg(\\frac{s}{n+g+\\delta}\\bigg)\\bigg(1 - e^{-(n+g+\\delta)(1-\\alpha)t}\\bigg)+ k_0^{1-\\alpha}e^{-(n+g+\\delta)(1-\\alpha)t}\\Bigg]^{\\frac{1}{1-\\alpha}}. \\tag{0.1.3} $$\n",
      "\n",
      "A notable property of the Solow model with Cobb-Douglas production is that the model predicts that the shares of real income going to capital and labor should be constant. Denoting capital's share of income as $\\alpha_K(k)$, the model predicts that \n",
      "\n",
      "$$ \\alpha_K(k(t)) \\equiv \\frac{\\partial \\ln f(k(t))}{\\partial \\ln k(t)} = \\alpha \\tag{0.1.4} $$\n",
      "\n",
      "Note that the prediction is that factor shares are constant along both the balanced growth path *and* during the disequilibrium transient (i.e., the period in which $k(t)$ is varying).  We can test this implication of the model using data from the newest version of the [Penn World Tables (PWT)](http://www.rug.nl/research/ggdc/data/penn-world-table). "
     ]
    },
    {
     "cell_type": "code",
     "collapsed": false,
     "input": [
      "import pypwt\n",
      "pwt = pypwt.load_pwt_data()"
     ],
     "language": "python",
     "metadata": {
      "internals": {},
      "slideshow": {
       "slide_type": "-"
      }
     },
     "outputs": []
    },
    {
     "cell_type": "code",
     "collapsed": false,
     "input": [
      "fig, ax = plt.subplots(1, 1, figsize=(8,6))\n",
      "\n",
      "for ctry in pwt.major_axis:\n",
      "    tmp_data = pwt.major_xs(ctry)\n",
      "    tmp_data.labsh.plot(color='gray', alpha=0.5)\n",
      "    \n",
      "# plot some specific countries\n",
      "pwt.major_xs('USA').labsh.plot(color='blue', ax=ax, label='USA')\n",
      "pwt.major_xs('IND').labsh.plot(color='green', ax=ax, label='IND')\n",
      "pwt.major_xs('CHN').labsh.plot(color='orange', ax=ax, label='CHN')\n",
      "\n",
      "# plot global average\n",
      "avg_labor_share = pwt.labsh.mean(axis=0)\n",
      "avg_labor_share.plot(color='r', ax=ax)\n",
      "\n",
      "ax.set_title(\"Labor's share has been far from constant!\",\n",
      "             fontsize=20, family='serif')\n",
      "ax.set_xlabel('Year', family='serif', fontsize=15)\n",
      "ax.set_ylabel('Labor share of income', family='serif', fontsize=15)\n",
      "ax.set_ylim(0, 1)\n",
      "\n",
      "plt.show()"
     ],
     "language": "python",
     "metadata": {
      "internals": {},
      "slideshow": {
       "slide_type": "-"
      }
     },
     "outputs": []
    },
    {
     "cell_type": "markdown",
     "metadata": {
      "internals": {},
      "slideshow": {
       "slide_type": "-"
      }
     },
     "source": [
      "From the above figure it is clear that the prediction of constant factor shares is strongly at odds with the empirical data for most countries. Labor's share of real GDP has been declining, on average, for much of the post-war period. For many countries, such as India, China, and South Korea, the fall in labor's share has been dramatic. Note also that the observed trends in factor shares are inconsistent with an economy being on its long-run balanced growth path. "
     ]
    },
    {
     "cell_type": "markdown",
     "metadata": {
      "internals": {},
      "slideshow": {
       "slide_type": "-"
      }
     },
     "source": [
      "## 0.2 A more general Solow growth model\n",
      "\n",
      "While the data clearly reject the Solow model with Cobb-Douglas production, they are *not* inconsistent with the Solow model in general. A simple generalization of the Cobb-Douglas production function, known as the constant elasticity of substitution (CES) function:\n",
      "\n",
      "$$ f(k(t)) = \\bigg[\\alpha k(t)^{\\rho} + (1-\\alpha)\\bigg]^{\\frac{1}{\\rho}} $$\n",
      "\n",
      "where $-\\infty < \\rho < 1$ is the elasticity of substitution between capital and effective labor in production is capable of generating the variable factor shares observed in the data. Note that \n",
      "   \n",
      "$$ \\lim_{\\rho\\rightarrow 0} f(k(t)) = k(t)^{\\alpha} $$\n",
      "\n",
      "and thus the CES production function nests the Cobb-Douglas functional form as a special case.\n",
      "\n",
      "To see that the CES production function also generates variable factor shares note that \n",
      "\n",
      "$$ \\alpha_K(k(t)) \\equiv \\frac{\\partial \\ln f(k(t))}{\\partial \\ln k(t)} = \\frac{\\alpha k(t)^{\\rho}}{\\alpha k(t)^{\\rho} + (1 - \\alpha)} $$\n",
      "\n",
      "which varies with $k(t)$.\n",
      "\n",
      "This seemingly simple generalization of the Cobb-Douglas production function, which is necessary in order for the Solow model generate variable factor share, an economically important feature of the post-war growth experience in most countries, renders the Solow model analytically intractable. To make progress solving a Solow growth model with CES production one needs to resort to computational methods."
     ]
    },
    {
     "cell_type": "markdown",
     "metadata": {
      "internals": {},
      "slideshow": {
       "slide_type": "-"
      }
     },
     "source": [
      "# 1. Creating an instance of the `solow.Model` class\n",
      "\n",
      "We begin by creating an instance of the `solow.Model` class in the IPython notebook. As always, it is a good idea to read the docstrings..."
     ]
    },
    {
     "cell_type": "code",
     "collapsed": false,
     "input": [
      "solow.Model?"
     ],
     "language": "python",
     "metadata": {
      "internals": {},
      "slideshow": {
       "slide_type": "-"
      }
     },
     "outputs": []
    },
    {
     "cell_type": "markdown",
     "metadata": {
      "internals": {},
      "slideshow": {
       "slide_type": "-"
      }
     },
     "source": [
      " From the docsting we see that in order to create an instance of the model we need to specify two primitives: the extensive production function, $F$, and a dictionary of model parameters."
     ]
    },
    {
     "cell_type": "code",
     "collapsed": false,
     "input": [
      "# define model variables\n",
      "A, K, L = sym.symbols('A, K, L')\n",
      "\n",
      "# define production parameters\n",
      "alpha, sigma = sym.symbols('alpha, sigma')\n",
      "\n",
      "# specify some production function\n",
      "rho = (sigma - 1) / sigma\n",
      "ces_output = (alpha * K**rho + (1 - alpha) * (A * L)**rho)**(1 / rho)"
     ],
     "language": "python",
     "metadata": {
      "internals": {},
      "slideshow": {
       "slide_type": "-"
      }
     },
     "outputs": []
    },
    {
     "cell_type": "code",
     "collapsed": false,
     "input": [
      "# define model parameters\n",
      "ces_params = {'A0': 1.0, 'L0': 1.0, 'g': 0.02, 'n': 0.03, 's': 0.15,\n",
      "              'delta': 0.05, 'alpha': 0.33, 'sigma': 0.95}\n",
      "\n",
      "# create an instance of the solow.Model class\n",
      "ces_model = solow.CESModel(params=ces_params)"
     ],
     "language": "python",
     "metadata": {
      "internals": {},
      "slideshow": {
       "slide_type": "-"
      }
     },
     "outputs": []
    },
    {
     "cell_type": "markdown",
     "metadata": {
      "internals": {},
      "slideshow": {
       "slide_type": "-"
      }
     },
     "source": [
      "More details on on how to create instances of the `solow.Model` class can be found in the **Getting started** notebook in the [solowPy](https://github.com/davidrpugh/solowPy) repository."
     ]
    },
    {
     "cell_type": "markdown",
     "metadata": {
      "internals": {},
      "slideshow": {
       "slide_type": "-"
      }
     },
     "source": [
      "# 2. Finding the steady state\n",
      "\n",
      "Traditionally, most analysis of the Solow model focuses almost excusively on the long run steady state of the model. Recall that the steady state of the Solow model is the value of capital stock (per unit effective labor) that solves\n",
      "\n",
      "$$ 0 = sf(k^*) - (g + n + \\delta)k^*. \\tag{2.0.1} $$\n",
      "\n",
      "In words: in the long-run, capital stock (per unit effective labor) converges to the value that balances actual investment, $sf(k)$, with effective depreciation, $(g + n + \\delta)$. Given the assumption made about the aggregate production technology, $F$, and its intensive form, $f$, there is always a unique value $k^* >0$ satisfying equation 2.0.1.\n",
      "\n",
      "Although it is trivial to derive an analytic expression for the long-run equilibrium of the Solow model for most intensive production functions, the Solow model serves as a good illustrative case for various numerical methods for solving non-linear equations.\n",
      "\n",
      "The `solow.Model.find_steady_state` method provides a simple interface to the various 1D root finding routines available in `scipy.optimize` and uses them to solve the non-linear equation 2.0.1. To see the list of currently supported methods, check out the docstring for the `Model.find_steady_state` method..."
     ]
    },
    {
     "cell_type": "code",
     "collapsed": false,
     "input": [
      "solow.Model.find_steady_state?"
     ],
     "language": "python",
     "metadata": {
      "internals": {},
      "slideshow": {
       "slide_type": "-"
      }
     },
     "outputs": []
    },
    {
     "cell_type": "code",
     "collapsed": false,
     "input": [
      "k_star, result = ces_model.find_steady_state(1e-6, 1e6, method='bisect', full_output=True)"
     ],
     "language": "python",
     "metadata": {
      "internals": {},
      "slideshow": {
       "slide_type": "-"
      }
     },
     "outputs": []
    },
    {
     "cell_type": "code",
     "collapsed": false,
     "input": [
      "print(\"The steady-state value is {}\".format(k_star))\n",
      "print(\"Did the bisection algorithm coverge? {}\".format(result.converged))"
     ],
     "language": "python",
     "metadata": {
      "internals": {},
      "slideshow": {
       "slide_type": "-"
      }
     },
     "outputs": []
    },
    {
     "cell_type": "markdown",
     "metadata": {
      "internals": {},
      "slideshow": {
       "slide_type": "-"
      }
     },
     "source": [
      "More details on on how to the various methods of the `solow.Model` class for finding the model's steady state can be found in the accompanying **Finding the steady state** notebook in the [solowPy](https://github.com/davidrpugh/solowPy) repository."
     ]
    },
    {
     "cell_type": "markdown",
     "metadata": {
      "internals": {},
      "slideshow": {
       "slide_type": "-"
      }
     },
     "source": [
      "# 3. Graphical analysis using Matplotlib and IPython widgets\n",
      "\n",
      "Graphical analysis is an important pedagogic and research technique for understanding the behavior of the Solow (or really any!) model and as such the `solow.Model` class has a number of useful, built-in plotting methods."
     ]
    },
    {
     "cell_type": "markdown",
     "metadata": {
      "internals": {},
      "slideshow": {
       "slide_type": "-"
      }
     },
     "source": [
      "## Static example: the classic Solow diagram"
     ]
    },
    {
     "cell_type": "code",
     "collapsed": false,
     "input": [
      "fig, ax = plt.subplots(1, 1, figsize=(8,6))\n",
      "ces_model.plot_solow_diagram(ax)\n",
      "fig.show()"
     ],
     "language": "python",
     "metadata": {
      "internals": {},
      "slideshow": {
       "slide_type": "-"
      }
     },
     "outputs": []
    },
    {
     "cell_type": "markdown",
     "metadata": {
      "internals": {},
      "slideshow": {
       "slide_type": "-"
      }
     },
     "source": [
      "## Interactive example: the classic Solow diagram"
     ]
    },
    {
     "cell_type": "code",
     "collapsed": false,
     "input": [
      "from IPython.html.widgets import fixed, interact, FloatSliderWidget"
     ],
     "language": "python",
     "metadata": {
      "internals": {},
      "slideshow": {
       "slide_type": "-"
      }
     },
     "outputs": []
    },
    {
     "cell_type": "code",
     "collapsed": false,
     "input": [
      "# wrap the static plotting code in a function\n",
      "def interactive_solow_diagram(model, **params):\n",
      "    \"\"\"Interactive widget for the Solow diagram.\"\"\"\n",
      "    fig, ax = plt.subplots(1, 1, figsize=(8, 6))\n",
      "    model.plot_solow_diagram(ax, Nk=1000, **params)\n",
      "    \n",
      "# define some widgets for the various parameters\n",
      "eps = 1e-2\n",
      "technology_progress_widget = FloatSliderWidget(min=-0.05, max=0.05, step=eps, value=0.02)\n",
      "population_growth_widget = FloatSliderWidget(min=-0.05, max=0.05, step=eps, value=0.02)\n",
      "savings_widget = FloatSliderWidget(min=eps, max=1-eps, step=eps, value=0.5)\n",
      "output_elasticity_widget = FloatSliderWidget(min=eps, max=1.0, step=eps, value=0.5)\n",
      "depreciation_widget = FloatSliderWidget(min=eps, max=1-eps, step=eps, value=0.5)\n",
      "elasticity_substitution_widget = FloatSliderWidget(min=eps, max=10.0, step=0.01, value=1.0+eps)\n",
      "\n",
      "# create the widget!\n",
      "interact(interactive_solow_diagram, \n",
      "         model=fixed(ces_model),\n",
      "         g=technology_progress_widget,\n",
      "         n=population_growth_widget,\n",
      "         s=savings_widget, \n",
      "         alpha=output_elasticity_widget,\n",
      "         delta=depreciation_widget,\n",
      "         sigma=elasticity_substitution_widget,\n",
      "         )"
     ],
     "language": "python",
     "metadata": {
      "internals": {},
      "slideshow": {
       "slide_type": "-"
      }
     },
     "outputs": []
    },
    {
     "cell_type": "markdown",
     "metadata": {
      "internals": {},
      "slideshow": {
       "slide_type": "-"
      }
     },
     "source": [
      "There are number of additional plotting methods available (all of which can be turned into interactive plots using IPython widgets). See the **Graphical analysis** notebook in the [solowPy](https://github.com/davidrpugh/solowPy) repository."
     ]
    },
    {
     "cell_type": "markdown",
     "metadata": {
      "internals": {},
      "slideshow": {
       "slide_type": "-"
      }
     },
     "source": [
      "# 4. Solving the Solow model\n",
      "\n",
      "Solving the Solow model requires efficiently and accurately approximating the solution to a non-linear ordinary differential equation (ODE) with a given initial condition (i.e., an non-linear initial value problem). \n",
      "\n",
      "## 4.1 Solow model as an initial value problem\n",
      "\n",
      "The Solow model with can be formulated as an initial value problem (IVP) as follows.\n",
      "\n",
      "$$ \\dot{k}(t) = sf(k(t)) - (g + n + \\delta)k(t),\\ t\\ge t_0,\\ k(t_0) = k_0 \\tag{4.1.0} $$\n",
      "\n",
      "The `quantecon` library has its own module `quantecon.ivp` for solving initial value problems of this form using [finite difference methods](http://en.wikipedia.org/wiki/Finite_difference_method). Upon creation of our instance of the `solow.Model` class, an instance of the `quantecon.ivp.IVP` class was created and stored as an attribute of our model..."
     ]
    },
    {
     "cell_type": "code",
     "collapsed": false,
     "input": [
      "ces_model.ivp?"
     ],
     "language": "python",
     "metadata": {
      "internals": {},
      "slideshow": {
       "slide_type": "-"
      }
     },
     "outputs": []
    },
    {
     "cell_type": "markdown",
     "metadata": {
      "internals": {},
      "slideshow": {
       "slide_type": "-"
      }
     },
     "source": [
      "...meaning that we can solve this initial value problem by applying the `solve` method of the `ivp` attribute!"
     ]
    },
    {
     "cell_type": "code",
     "collapsed": false,
     "input": [
      "ces_model.ivp.solve?"
     ],
     "language": "python",
     "metadata": {
      "internals": {},
      "slideshow": {
       "slide_type": "-"
      }
     },
     "outputs": []
    },
    {
     "cell_type": "code",
     "collapsed": false,
     "input": [
      "# need to specify some initial conditions\n",
      "t0, k0 = 0.0, 0.5\n",
      "numeric_soln = ces_model.ivp.solve(t0, k0, T=100, integrator='dopri5')"
     ],
     "language": "python",
     "metadata": {
      "internals": {},
      "slideshow": {
       "slide_type": "-"
      }
     },
     "outputs": []
    },
    {
     "cell_type": "markdown",
     "metadata": {
      "internals": {},
      "slideshow": {
       "slide_type": "-"
      }
     },
     "source": [
      "We can plot the finite-difference approximation of the solution as follows..."
     ]
    },
    {
     "cell_type": "code",
     "collapsed": false,
     "input": [
      "fig, ax = plt.subplots(1, 1, figsize=(8,6))\n",
      "\n",
      "# plot the finite-difference-approximation\n",
      "ax.plot(numeric_soln[:,0], numeric_soln[:,1], 'bo', markersize=3.0)\n",
      "\n",
      "# equilibrium value of capital stock (per unit effective labor)\n",
      "k_star = ces_model.steady_state\n",
      "ax.axhline(k_star, linestyle='dashed', color='k', label='$k^*$')\n",
      "\n",
      "# axes, labels, title, etc\n",
      "ax.set_xlabel('Time, $t$', fontsize=15, family='serif')\n",
      "ax.set_ylabel('$k(t)$', rotation='horizontal', fontsize=20, family='serif')\n",
      "ax.set_title('Finite-difference approximation',\n",
      "             fontsize=20, family='serif')\n",
      "ax.legend(loc=0, frameon=False, bbox_to_anchor=(1.0, 1.0))\n",
      "ax.grid('on')\n",
      "\n",
      "plt.show()"
     ],
     "language": "python",
     "metadata": {
      "internals": {},
      "slideshow": {
       "slide_type": "-"
      }
     },
     "outputs": []
    },
    {
     "cell_type": "markdown",
     "metadata": {
      "internals": {},
      "slideshow": {
       "slide_type": "-"
      }
     },
     "source": [
      "Finite-difference methods only return a discrete approximation to the continuous function $k(t)$. To get a continouous approximation of the solution we can combined finite-difference methods with [B-spline interpolation](http://en.wikipedia.org/wiki/B-spline) using the `interpolate` method of the `ivp` attribute."
     ]
    },
    {
     "cell_type": "code",
     "collapsed": false,
     "input": [
      "ces_model.ivp.interpolate?"
     ],
     "language": "python",
     "metadata": {
      "internals": {},
      "slideshow": {
       "slide_type": "-"
      }
     },
     "outputs": []
    },
    {
     "cell_type": "code",
     "collapsed": false,
     "input": [
      "# interpolate!\n",
      "ti = np.linspace(0, 100, 1000)\n",
      "interpolated_soln = ces_model.ivp.interpolate(numeric_soln, ti, k=3)"
     ],
     "language": "python",
     "metadata": {
      "internals": {},
      "slideshow": {
       "slide_type": "-"
      }
     },
     "outputs": []
    },
    {
     "cell_type": "markdown",
     "metadata": {
      "internals": {},
      "slideshow": {
       "slide_type": "-"
      }
     },
     "source": [
      "We can graphically compare the discrete, finite-difference approximation with the continuous, B-spline approximation as follows."
     ]
    },
    {
     "cell_type": "code",
     "collapsed": false,
     "input": [
      "fig, ax = plt.subplots(1, 1, figsize=(8,6))\n",
      "\n",
      "# plot the interpolated and finite difference approximations\n",
      "ax.plot(ti, interpolated_soln[:,1], 'r-')\n",
      "ax.plot(numeric_soln[:,0], numeric_soln[:,1], 'bo', markersize=3.0)\n",
      "\n",
      "# equilibrium value of capital stock (per unit effective labor)\n",
      "k_star = ces_model.steady_state\n",
      "ax.axhline(k_star, linestyle='dashed', color='k', label='$k^*$')\n",
      "\n",
      "# axes, labels, title, etc\n",
      "ax.set_xlabel('Time, $t$', fontsize=15, family='serif')\n",
      "ax.set_ylabel('$k(t)$', rotation='horizontal', fontsize=20, family='serif')\n",
      "ax.set_title('B-spline approximation of the solution',\n",
      "             fontsize=20, family='serif')\n",
      "ax.legend(loc=0, frameon=False, bbox_to_anchor=(1.0, 1.0))\n",
      "\n",
      "plt.show()"
     ],
     "language": "python",
     "metadata": {
      "internals": {},
      "slideshow": {
       "slide_type": "-"
      }
     },
     "outputs": []
    },
    {
     "cell_type": "markdown",
     "metadata": {
      "internals": {},
      "slideshow": {
       "slide_type": "-"
      }
     },
     "source": [
      "## Accuracy of our numerical methods\n",
      "\n",
      "When doing numerical work it is important to understand the accuracy of the methods that you are using to approximate the solution to your model. Typically one assesses the accuracy of a solution method by computing and evaluatin some residual function:\n",
      "\n",
      "$$ R(k; \\theta) = sf(\\hat{k}(\\theta)) - (g + n + \\delta)\\hat{k}(\\theta) - \\dot{\\hat{k}}(\\theta) $$\n",
      "\n",
      "where $\\hat{k}(\\theta)$ is out computed solution to the original differential equation.  We can assess the accuracy of our finite-difference methods by plotting the residual function for our approximate solution using the `compute_residual` method of the `ivp` attribute."
     ]
    },
    {
     "cell_type": "code",
     "collapsed": false,
     "input": [
      "# compute the residual...\n",
      "ti = np.linspace(0, 100, 1000)\n",
      "residual = ces_model.ivp.compute_residual(numeric_soln, ti, k=3)"
     ],
     "language": "python",
     "metadata": {
      "internals": {},
      "slideshow": {
       "slide_type": "-"
      }
     },
     "outputs": []
    },
    {
     "cell_type": "markdown",
     "metadata": {
      "internals": {},
      "slideshow": {
       "slide_type": "-"
      }
     },
     "source": [
      "We can then plot the residual as follows. Our approximation is accurate so long as the residual is everywhere \"close\" to zero."
     ]
    },
    {
     "cell_type": "code",
     "collapsed": false,
     "input": [
      "# extract the raw residuals\n",
      "capital_residual = residual[:, 1]\n",
      "\n",
      "# typically, normalize residual by the level of the variable\n",
      "norm_capital_residual = np.abs(capital_residual) / interpolated_soln[:,1]\n",
      "\n",
      "# create the plot\n",
      "fig = plt.figure(figsize=(8, 6))\n",
      "plt.plot(interpolated_soln[:,1], norm_capital_residual, 'b-', label='$k(t)$')\n",
      "plt.axhline(np.finfo('float').eps, linestyle='dashed', color='k', label='Machine eps')\n",
      "plt.xlabel('Capital (per unit effective labor), $k$', fontsize=15, family='serif')\n",
      "plt.ylim(1e-16, 1)\n",
      "plt.ylabel('Residuals (normalized)', fontsize=15, family='serif')\n",
      "plt.yscale('log')\n",
      "plt.title('Residual', fontsize=20, family='serif')\n",
      "plt.legend(loc=0, frameon=False, bbox_to_anchor=(1.0,1.0))\n",
      "plt.show()"
     ],
     "language": "python",
     "metadata": {
      "internals": {},
      "slideshow": {
       "slide_type": "-"
      }
     },
     "outputs": []
    },
    {
     "cell_type": "markdown",
     "metadata": {
      "internals": {},
      "slideshow": {
       "slide_type": "-"
      }
     },
     "source": [
      "For more details behind the numerical methods used in this section see the the **Solving the Solow model** notebook in the [solowPy](https://github.com/davidrpugh/solowPy) repository."
     ]
    },
    {
     "cell_type": "markdown",
     "metadata": {
      "internals": {},
      "slideshow": {
       "slide_type": "-"
      }
     },
     "source": [
      "# 5. Impulse response functions\n",
      "\n",
      "Impulse response functions (IRFs) are a standard tool for analyzing the short run dynamics of dynamic macroeconomic models, such as the Solow growth model, in response to an exogenous shock. The `solow.impulse_response.ImpulseResponse` class has several attributes and methods for generating and analyzing impulse response functions. \n",
      "\n",
      "### Example: Impact of a change in the savings rate\n",
      "One can analyze the impact of a doubling of the savings rate on model variables as follows."
     ]
    },
    {
     "cell_type": "code",
     "collapsed": false,
     "input": [
      "# 50% increase in the current savings rate...\n",
      "ces_model.irf.impulse = {'s': 1.5 * ces_model.params['s']}\n",
      "\n",
      "# in efficiency units...\n",
      "ces_model.irf.kind = 'efficiency_units'"
     ],
     "language": "python",
     "metadata": {
      "internals": {},
      "slideshow": {
       "slide_type": "-"
      }
     },
     "outputs": []
    },
    {
     "cell_type": "code",
     "collapsed": false,
     "input": [
      "fig, ax = plt.subplots(1, 1, figsize=(8,6))\n",
      "ces_model.irf.plot_impulse_response(ax, variable='output')\n",
      "plt.show()"
     ],
     "language": "python",
     "metadata": {
      "internals": {},
      "slideshow": {
       "slide_type": "-"
      }
     },
     "outputs": []
    },
    {
     "cell_type": "markdown",
     "metadata": {
      "internals": {},
      "slideshow": {
       "slide_type": "-"
      }
     },
     "source": [
      "### Example: Interactive impulse reponse functions\n",
      "Using IPython widgets makes it extremely easy to analyze the various impulse response functions."
     ]
    },
    {
     "cell_type": "code",
     "collapsed": false,
     "input": [
      "def interactive_impulse_response(model, shock, param, variable, kind, log_scale):\n",
      "    \"\"\"Interactive impulse response plotting tool.\"\"\"    \n",
      "    # specify the impulse response\n",
      "    model.irf.impulse = {param: shock * model.params[param]}\n",
      "    model.irf.kind = kind\n",
      "    \n",
      "    # create the plot\n",
      "    fig, ax = plt.subplots(1, 1, figsize=(8,6))\n",
      "    model.irf.plot_impulse_response(ax, variable=variable, log=log_scale)\n",
      "    \n",
      "\n",
      "irf_widget = interact(interactive_impulse_response, \n",
      "                      model=fixed(ces_model),\n",
      "                      shock = FloatSliderWidget(min=0.1, max=5.0, step=0.1, value=0.5),\n",
      "                      param = ['g', 'n', 's', 'alpha', 'delta' , 'sigma'],\n",
      "                      variable=['capital', 'output', 'consumption', 'investment'],\n",
      "                      kind=['efficiency_units', 'per_capita', 'levels'],\n",
      "                      log_scale=False,\n",
      "                      )"
     ],
     "language": "python",
     "metadata": {
      "internals": {},
      "slideshow": {
       "slide_type": "-"
      }
     },
     "outputs": []
    },
    {
     "cell_type": "markdown",
     "metadata": {
      "internals": {},
      "slideshow": {
       "slide_type": "-"
      }
     },
     "source": [
      "For more details and examples see the accompanying **Impulse response function** notebook in the [solowPy](https://github.com/davidrpugh/solowPy) repository."
     ]
    },
    {
     "cell_type": "markdown",
     "metadata": {
      "internals": {},
      "slideshow": {
       "slide_type": "-"
      }
     },
     "source": [
      "# 6. The Solow model, declining labor's share, and secular stagnation\n",
      "\n",
      "Recently there has been much discussion about the reasons for the [Elsby (2013)](http://www.brookings.edu/~/media/Projects/BPEA/Fall%202013/2013b_elsby_labor_share.pdf) has a nice paper that looks at the decline of labor share in the U.S.; as well as much debat about whether or not developed economes are experiencing some sort of [secular stagnation](http://www.economist.com/blogs/buttonwood/2014/11/secular-stagnation) more generally."
     ]
    },
    {
     "cell_type": "code",
     "collapsed": false,
     "input": [
      "def awesome_interactive_plot(model, iso3_code, **params):\n",
      "    \"\"\"Interactive widget for the my awesome plot.\"\"\"\n",
      "    \n",
      "    # extract the relevant data\n",
      "    tmp_data = pwt.major_xs(iso3_code)\n",
      "    actual_labor_share = tmp_data.labsh.values\n",
      "    actual_capital_share = 1 - tmp_data.labsh\n",
      "    \n",
      "    output = tmp_data.rgdpna\n",
      "    capital = tmp_data.rkna\n",
      "    labor = tmp_data.emp\n",
      "    \n",
      "    # need to update params\n",
      "    model.params.update(params)\n",
      "    \n",
      "    # get new initial condition\n",
      "    implied_technology = model.evaluate_solow_residual(output, capital, labor)\n",
      "    k0 = tmp_data.rkna[0] / (implied_technology[0] * labor[0])\n",
      "    \n",
      "    # finite difference approximation\n",
      "    T = actual_labor_share.size\n",
      "    soln = model.ivp.solve(t0, k0, T=T, integrator='dopri5')\n",
      "    \n",
      "    # get predicted labor share\n",
      "    predicted_capital_share = model.evaluate_output_elasticity(soln[:,1])\n",
      "    predicted_labor_share = 1 - predicted_capital_share\n",
      "        \n",
      "    # get predicted output per unit labor\n",
      "    predicted_intensive_output = model.evaluate_intensive_output(soln[:,1])\n",
      "    technology = implied_technology[0] * np.exp(ces_model.params['g'] * soln[:,0])\n",
      "    predicted_output_per_unit_labor = predicted_intensive_output * technology\n",
      "\n",
      "    # make the plots!\n",
      "    fig, axes = plt.subplots(1, 2, figsize=(12,6))\n",
      "    axes[0].plot(soln[:,0], predicted_labor_share, 'b')\n",
      "    axes[0].plot(soln[:,0], predicted_capital_share, 'g')\n",
      "    axes[0].plot(actual_labor_share)\n",
      "    axes[0].plot(actual_capital_share)    \n",
      "    axes[0].set_xlabel('Time, $t$', fontsize=15, family='serif')\n",
      "    axes[0].set_ylim(0, 1)\n",
      "    axes[0].set_title('Labor share of income in {}'.format(iso3_code),\n",
      "                      fontsize=20, family='serif')\n",
      "    axes[0].legend(loc=0, frameon=False, bbox_to_anchor=(1.0, 1.0))\n",
      "    \n",
      "    axes[1].set_xlabel('Time, $t$', fontsize=15, family='serif')\n",
      "    axes[1].set_title('Growth rate of Y/L in {}'.format(iso3_code),\n",
      "                      fontsize=20, family='serif')\n",
      "    axes[1].legend(loc=0, frameon=False, bbox_to_anchor=(1.0, 1.0))\n",
      "    axes[1].plot(soln[1:,0], np.diff(np.log(predicted_output_per_unit_labor)),\n",
      "                 'b', markersize=3.0)\n",
      "    axes[1].plot(np.log(output / labor).diff().values)\n",
      "\n",
      "    \n",
      "# define some widgets for the various parameters\n",
      "technology_progress_widget = FloatSliderWidget(min=-0.05, max=0.05, step=5e-3, value=0.01)\n",
      "population_growth_widget = FloatSliderWidget(min=-0.05, max=0.05, step=5e-3, value=0.01)\n",
      "savings_widget = FloatSliderWidget(min=eps, max=1-eps, step=5e-3, value=0.2)\n",
      "output_elasticity_widget = FloatSliderWidget(min=eps, max=1.0, step=5e-3, value=0.15)\n",
      "depreciation_widget = FloatSliderWidget(min=eps, max=1-eps, step=5e-3, value=0.02)\n",
      "elasticity_substitution_widget = FloatSliderWidget(min=eps, max=10.0, step=1e-2, value=2.0+eps)\n",
      "\n",
      "# create the widget!\n",
      "interact(awesome_interactive_plot, \n",
      "         model=fixed(ces_model),\n",
      "         iso3_code='USA',\n",
      "         g=technology_progress_widget,\n",
      "         n=population_growth_widget,\n",
      "         s=savings_widget, \n",
      "         alpha=output_elasticity_widget,\n",
      "         delta=depreciation_widget,\n",
      "         sigma=elasticity_substitution_widget,\n",
      "         )"
     ],
     "language": "python",
     "metadata": {
      "internals": {},
      "slideshow": {
       "slide_type": "-"
      }
     },
     "outputs": []
    },
    {
     "cell_type": "code",
     "collapsed": false,
     "input": [],
     "language": "python",
     "metadata": {
      "internals": {
       "slide_helper": "subslide_end"
      },
      "slide_helper": "slide_end",
      "slideshow": {
       "slide_type": "-"
      }
     },
     "outputs": []
    }
   ],
   "metadata": {}
  }
 ]
}